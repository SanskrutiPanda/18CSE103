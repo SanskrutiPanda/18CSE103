{
  "nbformat": 4,
  "nbformat_minor": 0,
  "metadata": {
    "colab": {
      "name": "DMDW_ASSIGNMENT_2_18CSE103.ipynb",
      "provenance": [],
      "authorship_tag": "ABX9TyNJ0FZzI/wyZaDKE8ZE2Ewr",
      "include_colab_link": true
    },
    "kernelspec": {
      "name": "python3",
      "display_name": "Python 3"
    }
  },
  "cells": [
    {
      "cell_type": "markdown",
      "metadata": {
        "id": "view-in-github",
        "colab_type": "text"
      },
      "source": [
        "<a href=\"https://colab.research.google.com/github/SanskrutiPanda/18CSE103/blob/main/DMDW_ASSIGNMENT_2_18CSE103.ipynb\" target=\"_parent\"><img src=\"https://colab.research.google.com/assets/colab-badge.svg\" alt=\"Open In Colab\"/></a>"
      ]
    },
    {
      "cell_type": "markdown",
      "metadata": {
        "id": "BcOKDH48Ki-X"
      },
      "source": [
        "**Download a dataset from kaggle and upload it in jupyter\n",
        "notebook or google colab. Perform any random operation on\n",
        "the dataset.**. "
      ]
    },
    {
      "cell_type": "code",
      "metadata": {
        "id": "egQKy8fMLdXv",
        "outputId": "3f11ee24-533c-4579-9b10-3fe23860f05a",
        "colab": {
          "resources": {
            "http://localhost:8080/nbextensions/google.colab/files.js": {
              "data": "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",
              "ok": true,
              "headers": [
                [
                  "content-type",
                  "application/javascript"
                ]
              ],
              "status": 200,
              "status_text": ""
            }
          },
          "base_uri": "https://localhost:8080/",
          "height": 72
        }
      },
      "source": [
        "from google.colab import files\n",
        "uploaded = files.upload()"
      ],
      "execution_count": null,
      "outputs": [
        {
          "output_type": "display_data",
          "data": {
            "text/html": [
              "\n",
              "     <input type=\"file\" id=\"files-bf6b2394-b3bb-4662-a9b0-027047397af3\" name=\"files[]\" multiple disabled\n",
              "        style=\"border:none\" />\n",
              "     <output id=\"result-bf6b2394-b3bb-4662-a9b0-027047397af3\">\n",
              "      Upload widget is only available when the cell has been executed in the\n",
              "      current browser session. Please rerun this cell to enable.\n",
              "      </output>\n",
              "      <script src=\"/nbextensions/google.colab/files.js\"></script> "
            ],
            "text/plain": [
              "<IPython.core.display.HTML object>"
            ]
          },
          "metadata": {
            "tags": []
          }
        },
        {
          "output_type": "stream",
          "text": [
            "Saving Bank_churn_modelling.csv to Bank_churn_modelling.csv\n"
          ],
          "name": "stdout"
        }
      ]
    },
    {
      "cell_type": "code",
      "metadata": {
        "id": "Wf88M-kYNffw"
      },
      "source": [
        "import pandas as pd\n",
        "import numpy as np\n",
        "import matplotlib.pyplot as plt\n",
        "import seaborn as sns"
      ],
      "execution_count": null,
      "outputs": []
    },
    {
      "cell_type": "code",
      "metadata": {
        "id": "cMVTvRQvNv0O"
      },
      "source": [
        "df=pd.read_csv(\"Bank_churn_modelling.csv\")"
      ],
      "execution_count": null,
      "outputs": []
    },
    {
      "cell_type": "code",
      "metadata": {
        "id": "vmB6HR7gNmNx",
        "outputId": "543e5f27-4994-4114-f2d1-99c5f95a024b",
        "colab": {
          "base_uri": "https://localhost:8080/"
        }
      },
      "source": [
        "df.shape"
      ],
      "execution_count": null,
      "outputs": [
        {
          "output_type": "execute_result",
          "data": {
            "text/plain": [
              "(10000, 14)"
            ]
          },
          "metadata": {
            "tags": []
          },
          "execution_count": 34
        }
      ]
    },
    {
      "cell_type": "code",
      "metadata": {
        "id": "cQTXjWiJODeR",
        "outputId": "a4ab0e37-f06f-4667-b3bf-45dfd5dee4b1",
        "colab": {
          "base_uri": "https://localhost:8080/"
        }
      },
      "source": [
        "df.columns"
      ],
      "execution_count": null,
      "outputs": [
        {
          "output_type": "execute_result",
          "data": {
            "text/plain": [
              "Index(['RowNumber', 'CustomerId', 'Surname', 'CreditScore', 'Geography',\n",
              "       'Gender', 'Age', 'Tenure', 'Balance', 'NumOfProducts', 'HasCrCard',\n",
              "       'IsActiveMember', 'EstimatedSalary', 'Exited'],\n",
              "      dtype='object')"
            ]
          },
          "metadata": {
            "tags": []
          },
          "execution_count": 35
        }
      ]
    },
    {
      "cell_type": "code",
      "metadata": {
        "id": "E1vnhc5dOI4e",
        "outputId": "1ef0a132-7041-42de-cce4-80824a8336b4",
        "colab": {
          "base_uri": "https://localhost:8080/",
          "height": 297
        }
      },
      "source": [
        "df.describe()"
      ],
      "execution_count": null,
      "outputs": [
        {
          "output_type": "execute_result",
          "data": {
            "text/html": [
              "<div>\n",
              "<style scoped>\n",
              "    .dataframe tbody tr th:only-of-type {\n",
              "        vertical-align: middle;\n",
              "    }\n",
              "\n",
              "    .dataframe tbody tr th {\n",
              "        vertical-align: top;\n",
              "    }\n",
              "\n",
              "    .dataframe thead th {\n",
              "        text-align: right;\n",
              "    }\n",
              "</style>\n",
              "<table border=\"1\" class=\"dataframe\">\n",
              "  <thead>\n",
              "    <tr style=\"text-align: right;\">\n",
              "      <th></th>\n",
              "      <th>RowNumber</th>\n",
              "      <th>CustomerId</th>\n",
              "      <th>CreditScore</th>\n",
              "      <th>Age</th>\n",
              "      <th>Tenure</th>\n",
              "      <th>Balance</th>\n",
              "      <th>NumOfProducts</th>\n",
              "      <th>HasCrCard</th>\n",
              "      <th>IsActiveMember</th>\n",
              "      <th>EstimatedSalary</th>\n",
              "      <th>Exited</th>\n",
              "    </tr>\n",
              "  </thead>\n",
              "  <tbody>\n",
              "    <tr>\n",
              "      <th>count</th>\n",
              "      <td>10000.00000</td>\n",
              "      <td>1.000000e+04</td>\n",
              "      <td>10000.000000</td>\n",
              "      <td>10000.000000</td>\n",
              "      <td>10000.000000</td>\n",
              "      <td>10000.000000</td>\n",
              "      <td>10000.000000</td>\n",
              "      <td>10000.00000</td>\n",
              "      <td>10000.000000</td>\n",
              "      <td>10000.000000</td>\n",
              "      <td>10000.000000</td>\n",
              "    </tr>\n",
              "    <tr>\n",
              "      <th>mean</th>\n",
              "      <td>5000.50000</td>\n",
              "      <td>1.569094e+07</td>\n",
              "      <td>650.528800</td>\n",
              "      <td>38.921800</td>\n",
              "      <td>5.012800</td>\n",
              "      <td>76485.889288</td>\n",
              "      <td>1.530200</td>\n",
              "      <td>0.70550</td>\n",
              "      <td>0.515100</td>\n",
              "      <td>100090.239881</td>\n",
              "      <td>0.203700</td>\n",
              "    </tr>\n",
              "    <tr>\n",
              "      <th>std</th>\n",
              "      <td>2886.89568</td>\n",
              "      <td>7.193619e+04</td>\n",
              "      <td>96.653299</td>\n",
              "      <td>10.487806</td>\n",
              "      <td>2.892174</td>\n",
              "      <td>62397.405202</td>\n",
              "      <td>0.581654</td>\n",
              "      <td>0.45584</td>\n",
              "      <td>0.499797</td>\n",
              "      <td>57510.492818</td>\n",
              "      <td>0.402769</td>\n",
              "    </tr>\n",
              "    <tr>\n",
              "      <th>min</th>\n",
              "      <td>1.00000</td>\n",
              "      <td>1.556570e+07</td>\n",
              "      <td>350.000000</td>\n",
              "      <td>18.000000</td>\n",
              "      <td>0.000000</td>\n",
              "      <td>0.000000</td>\n",
              "      <td>1.000000</td>\n",
              "      <td>0.00000</td>\n",
              "      <td>0.000000</td>\n",
              "      <td>11.580000</td>\n",
              "      <td>0.000000</td>\n",
              "    </tr>\n",
              "    <tr>\n",
              "      <th>25%</th>\n",
              "      <td>2500.75000</td>\n",
              "      <td>1.562853e+07</td>\n",
              "      <td>584.000000</td>\n",
              "      <td>32.000000</td>\n",
              "      <td>3.000000</td>\n",
              "      <td>0.000000</td>\n",
              "      <td>1.000000</td>\n",
              "      <td>0.00000</td>\n",
              "      <td>0.000000</td>\n",
              "      <td>51002.110000</td>\n",
              "      <td>0.000000</td>\n",
              "    </tr>\n",
              "    <tr>\n",
              "      <th>50%</th>\n",
              "      <td>5000.50000</td>\n",
              "      <td>1.569074e+07</td>\n",
              "      <td>652.000000</td>\n",
              "      <td>37.000000</td>\n",
              "      <td>5.000000</td>\n",
              "      <td>97198.540000</td>\n",
              "      <td>1.000000</td>\n",
              "      <td>1.00000</td>\n",
              "      <td>1.000000</td>\n",
              "      <td>100193.915000</td>\n",
              "      <td>0.000000</td>\n",
              "    </tr>\n",
              "    <tr>\n",
              "      <th>75%</th>\n",
              "      <td>7500.25000</td>\n",
              "      <td>1.575323e+07</td>\n",
              "      <td>718.000000</td>\n",
              "      <td>44.000000</td>\n",
              "      <td>7.000000</td>\n",
              "      <td>127644.240000</td>\n",
              "      <td>2.000000</td>\n",
              "      <td>1.00000</td>\n",
              "      <td>1.000000</td>\n",
              "      <td>149388.247500</td>\n",
              "      <td>0.000000</td>\n",
              "    </tr>\n",
              "    <tr>\n",
              "      <th>max</th>\n",
              "      <td>10000.00000</td>\n",
              "      <td>1.581569e+07</td>\n",
              "      <td>850.000000</td>\n",
              "      <td>92.000000</td>\n",
              "      <td>10.000000</td>\n",
              "      <td>250898.090000</td>\n",
              "      <td>4.000000</td>\n",
              "      <td>1.00000</td>\n",
              "      <td>1.000000</td>\n",
              "      <td>199992.480000</td>\n",
              "      <td>1.000000</td>\n",
              "    </tr>\n",
              "  </tbody>\n",
              "</table>\n",
              "</div>"
            ],
            "text/plain": [
              "         RowNumber    CustomerId  ...  EstimatedSalary        Exited\n",
              "count  10000.00000  1.000000e+04  ...     10000.000000  10000.000000\n",
              "mean    5000.50000  1.569094e+07  ...    100090.239881      0.203700\n",
              "std     2886.89568  7.193619e+04  ...     57510.492818      0.402769\n",
              "min        1.00000  1.556570e+07  ...        11.580000      0.000000\n",
              "25%     2500.75000  1.562853e+07  ...     51002.110000      0.000000\n",
              "50%     5000.50000  1.569074e+07  ...    100193.915000      0.000000\n",
              "75%     7500.25000  1.575323e+07  ...    149388.247500      0.000000\n",
              "max    10000.00000  1.581569e+07  ...    199992.480000      1.000000\n",
              "\n",
              "[8 rows x 11 columns]"
            ]
          },
          "metadata": {
            "tags": []
          },
          "execution_count": 36
        }
      ]
    },
    {
      "cell_type": "code",
      "metadata": {
        "id": "sKrIrkpNOLTj",
        "outputId": "831e757d-9306-4496-ecdd-5711da197e6a",
        "colab": {
          "base_uri": "https://localhost:8080/"
        }
      },
      "source": [
        "df.Geography.unique()"
      ],
      "execution_count": null,
      "outputs": [
        {
          "output_type": "execute_result",
          "data": {
            "text/plain": [
              "array(['France', 'Spain', 'Germany'], dtype=object)"
            ]
          },
          "metadata": {
            "tags": []
          },
          "execution_count": 37
        }
      ]
    },
    {
      "cell_type": "code",
      "metadata": {
        "id": "RkTptzl6OSOo",
        "outputId": "928524a4-94ac-42d7-d626-4030de1fd3c8",
        "colab": {
          "base_uri": "https://localhost:8080/"
        }
      },
      "source": [
        "df.duplicated().sum()"
      ],
      "execution_count": null,
      "outputs": [
        {
          "output_type": "execute_result",
          "data": {
            "text/plain": [
              "0"
            ]
          },
          "metadata": {
            "tags": []
          },
          "execution_count": 38
        }
      ]
    },
    {
      "cell_type": "markdown",
      "metadata": {
        "id": "EWexkL3VDVXr"
      },
      "source": [
        "**Practice 10 python programs using numpy libraries**"
      ]
    },
    {
      "cell_type": "code",
      "metadata": {
        "id": "b2chWxXaDXna",
        "outputId": "3b08df1a-172a-4228-c1e0-2165702a3158",
        "colab": {
          "base_uri": "https://localhost:8080/"
        }
      },
      "source": [
        "#1)Create NumPy Array\n",
        "import numpy as np\n",
        " \n",
        "array1d = np.array([1, 2, 3, 4, 5, 6])\n",
        "array2d = np.array([[1, 2, 3], [4, 5, 6]])\n",
        "array3d = np.array([[[1, 2, 3], [4, 5, 6]], [[7, 8, 9], [10, 11, 12]]])\n",
        " \n",
        "print(array1d)\n",
        " \n",
        "print(\"-\" * 10)\n",
        "print(array2d)\n",
        " \n",
        "print(\"-\" * 10)\n",
        "print(array3d)"
      ],
      "execution_count": null,
      "outputs": [
        {
          "output_type": "stream",
          "text": [
            "[1 2 3 4 5 6]\n",
            "----------\n",
            "[[1 2 3]\n",
            " [4 5 6]]\n",
            "----------\n",
            "[[[ 1  2  3]\n",
            "  [ 4  5  6]]\n",
            "\n",
            " [[ 7  8  9]\n",
            "  [10 11 12]]]\n"
          ],
          "name": "stdout"
        }
      ]
    },
    {
      "cell_type": "code",
      "metadata": {
        "id": "9t06SgnPDt6O",
        "outputId": "6c94adb9-7288-4457-8b15-de9d270d4ffd",
        "colab": {
          "base_uri": "https://localhost:8080/"
        }
      },
      "source": [
        "#2)Data Types\n",
        "import numpy as np\n",
        "type1 = np.array([1, 2, 3, 4, 5, 6])\n",
        "type2 = np.array([1.5, 2.5, 0.5, 6])\n",
        "type3 = np.array(['a', 'b', 'c'])\n",
        "type4 = np.array([\"Canada\", \"Australia\"], dtype='U5')\n",
        "type5 = np.array([555, 666], dtype=float)\n",
        "print(type1.dtype)\n",
        "print(type2.dtype)\n",
        "print(type3.dtype)\n",
        "print(type4.dtype)\n",
        "print(type5.dtype)\n",
        " \n",
        "print(type4)"
      ],
      "execution_count": null,
      "outputs": [
        {
          "output_type": "stream",
          "text": [
            "int64\n",
            "float64\n",
            "<U1\n",
            "<U5\n",
            "float64\n",
            "['Canad' 'Austr']\n"
          ],
          "name": "stdout"
        }
      ]
    },
    {
      "cell_type": "code",
      "metadata": {
        "id": "2JDe2Br0D_NQ",
        "outputId": "3d3aadf7-b57a-4e38-b77a-ae89c07523a9",
        "colab": {
          "base_uri": "https://localhost:8080/"
        }
      },
      "source": [
        "#3)Shape of an array\n",
        "import numpy as np\n",
        " \n",
        "array1d = np.array([1, 2, 3, 4, 5, 6])\n",
        "array2d = np.array([[1, 2, 3], [4, 5, 6]])\n",
        "array3d = np.array([[[1, 2, 3], [4, 5, 6]], [[7, 8, 9], [10, 11, 12]]])\n",
        " \n",
        "print(array1d.shape)\n",
        "print(array2d.shape)\n",
        "print(array3d.shape)"
      ],
      "execution_count": null,
      "outputs": [
        {
          "output_type": "stream",
          "text": [
            "(6,)\n",
            "(2, 3)\n",
            "(2, 2, 3)\n"
          ],
          "name": "stdout"
        }
      ]
    },
    {
      "cell_type": "code",
      "metadata": {
        "id": "E73gF-CiEKjA",
        "outputId": "6fbe6b8d-f7e9-4c62-9416-7133a60fe4c9",
        "colab": {
          "base_uri": "https://localhost:8080/"
        }
      },
      "source": [
        "#4)Reshape an array\n",
        "import numpy as np\n",
        " \n",
        "thearray = np.array([1, 2, 3, 4, 5, 6, 7, 8])\n",
        "thearray = thearray.reshape(2, 4)\n",
        "print(thearray)\n",
        " \n",
        "print(\"-\" * 10)\n",
        "thearray = thearray.reshape(4, 2)\n",
        "print(thearray)\n",
        " \n",
        "print(\"-\" * 10)\n",
        "thearray = thearray.reshape(8, 1)\n",
        "print(thearray)"
      ],
      "execution_count": null,
      "outputs": [
        {
          "output_type": "stream",
          "text": [
            "[[1 2 3 4]\n",
            " [5 6 7 8]]\n",
            "----------\n",
            "[[1 2]\n",
            " [3 4]\n",
            " [5 6]\n",
            " [7 8]]\n",
            "----------\n",
            "[[1]\n",
            " [2]\n",
            " [3]\n",
            " [4]\n",
            " [5]\n",
            " [6]\n",
            " [7]\n",
            " [8]]\n"
          ],
          "name": "stdout"
        }
      ]
    },
    {
      "cell_type": "code",
      "metadata": {
        "id": "f2OS7loEFNVm",
        "outputId": "383fb049-5a46-4b05-fadb-d621b35a5ab9",
        "colab": {
          "base_uri": "https://localhost:8080/"
        }
      },
      "source": [
        "#5)Resize an array\n",
        "import numpy as np\n",
        " \n",
        "thearray = np.array([1, 2, 3, 4, 5, 6, 7, 8])\n",
        "thearray.resize(4)\n",
        "print(thearray)\n",
        " \n",
        "print(\"-\" * 10)\n",
        "thearray = np.array([1, 2, 3, 4, 5, 6, 7, 8])\n",
        "thearray.resize(2, 4)\n",
        "print(thearray)\n",
        " \n",
        "print(\"-\" * 10)\n",
        "thearray = np.array([1, 2, 3, 4, 5, 6, 7, 8])\n",
        "thearray.resize(3, 3)\n",
        "print(thearray)"
      ],
      "execution_count": null,
      "outputs": [
        {
          "output_type": "stream",
          "text": [
            "[1 2 3 4]\n",
            "----------\n",
            "[[1 2 3 4]\n",
            " [5 6 7 8]]\n",
            "----------\n",
            "[[1 2 3]\n",
            " [4 5 6]\n",
            " [7 8 0]]\n"
          ],
          "name": "stdout"
        }
      ]
    },
    {
      "cell_type": "code",
      "metadata": {
        "id": "IqLH-nqvFU4b",
        "outputId": "b1b6119e-7518-4499-8de3-5ce182fa92a6",
        "colab": {
          "base_uri": "https://localhost:8080/"
        }
      },
      "source": [
        "#6)Transform List or Tuple into NumPy array\n",
        "import numpy as np\n",
        " \n",
        "thelist = [1, 2, 3]\n",
        "print(type(thelist))  # <class 'list'>\n",
        " \n",
        "array1 = np.array(thelist)\n",
        "print(type(array1))  # <class 'numpy.ndarray'>\n",
        " \n",
        " \n",
        "thetuple = ((1, 2, 3))\n",
        "print(type(thetuple))  # <class 'tuple'>\n",
        " \n",
        "array2 = np.array(thetuple)\n",
        "print(type(array2))  # <class 'numpy.ndarray'>\n",
        " \n",
        "array3 = np.array([thetuple, thelist, array1])\n",
        "print(array3)"
      ],
      "execution_count": null,
      "outputs": [
        {
          "output_type": "stream",
          "text": [
            "<class 'list'>\n",
            "<class 'numpy.ndarray'>\n",
            "<class 'tuple'>\n",
            "<class 'numpy.ndarray'>\n",
            "[[1 2 3]\n",
            " [1 2 3]\n",
            " [1 2 3]]\n"
          ],
          "name": "stdout"
        }
      ]
    },
    {
      "cell_type": "code",
      "metadata": {
        "id": "2huKok9TFdQF",
        "outputId": "593e0f92-a059-41bd-a69b-b104f23cb20d",
        "colab": {
          "base_uri": "https://localhost:8080/"
        }
      },
      "source": [
        "#7)zero array\n",
        "import numpy as np\n",
        " \n",
        "array1d = np.zeros(3)\n",
        "print(array1d)\n",
        " \n",
        "array2d = np.zeros((2, 4))\n",
        "print(array2d)"
      ],
      "execution_count": null,
      "outputs": [
        {
          "output_type": "stream",
          "text": [
            "[0. 0. 0.]\n",
            "[[0. 0. 0. 0.]\n",
            " [0. 0. 0. 0.]]\n"
          ],
          "name": "stdout"
        }
      ]
    },
    {
      "cell_type": "code",
      "metadata": {
        "id": "KfQqN_LUGT_W",
        "outputId": "edeadf48-84a8-49d1-cda8-cca2af5d7be8",
        "colab": {
          "base_uri": "https://localhost:8080/"
        }
      },
      "source": [
        "#8)Mean\n",
        "import numpy as np\n",
        " \n",
        "array1 = np.array([[10, 20, 30], [40, 50, 60]])\n",
        " \n",
        "print(\"Mean: \", np.mean(array1))"
      ],
      "execution_count": null,
      "outputs": [
        {
          "output_type": "stream",
          "text": [
            "Mean:  35.0\n"
          ],
          "name": "stdout"
        }
      ]
    },
    {
      "cell_type": "code",
      "metadata": {
        "id": "kpE-NBTOGe96",
        "outputId": "f74d9740-ee49-4179-f4e6-8e40a4b21d0a",
        "colab": {
          "base_uri": "https://localhost:8080/"
        }
      },
      "source": [
        "#9)Standard deviation \n",
        "import numpy as np\n",
        " \n",
        "array1 = np.array([[10, 20, 30], [40, 50, 60]])\n",
        " \n",
        "print(\"Std: \", np.std(array1))"
      ],
      "execution_count": null,
      "outputs": [
        {
          "output_type": "stream",
          "text": [
            "Std:  17.07825127659933\n"
          ],
          "name": "stdout"
        }
      ]
    },
    {
      "cell_type": "code",
      "metadata": {
        "id": "TuJguHyyGur2",
        "outputId": "7d2ea7ed-5b8f-4fb8-fa58-66d842a3b9e7",
        "colab": {
          "base_uri": "https://localhost:8080/"
        }
      },
      "source": [
        "#10)sum\n",
        "import numpy as np\n",
        " \n",
        "array1 = np.array([[10, 20, 30], [40, 50, 60]])\n",
        "print(\"Sum: \", np.sum(array1))"
      ],
      "execution_count": null,
      "outputs": [
        {
          "output_type": "stream",
          "text": [
            "Sum:  210\n"
          ],
          "name": "stdout"
        }
      ]
    },
    {
      "cell_type": "markdown",
      "metadata": {
        "id": "QkEdDxYiG8rZ"
      },
      "source": [
        "**Practice 10 python programs using pandas libraries.**"
      ]
    },
    {
      "cell_type": "code",
      "metadata": {
        "id": "GeatugIaG2Ow",
        "outputId": "a5703abc-5053-4288-bc02-c0954ef73521",
        "colab": {
          "base_uri": "https://localhost:8080/"
        }
      },
      "source": [
        "#1)Creating Series using list:\n",
        "\n",
        "import pandas as pd\n",
        " \n",
        "ser1 = pd.Series([1.5, 2.5, 3, 4.5, 5.0, 6])\n",
        "print(ser1)"
      ],
      "execution_count": null,
      "outputs": [
        {
          "output_type": "stream",
          "text": [
            "0    1.5\n",
            "1    2.5\n",
            "2    3.0\n",
            "3    4.5\n",
            "4    5.0\n",
            "5    6.0\n",
            "dtype: float64\n"
          ],
          "name": "stdout"
        }
      ]
    },
    {
      "cell_type": "code",
      "metadata": {
        "id": "R5iyG6UbH54O",
        "outputId": "1b87571a-485f-4b5b-be93-8d9c793c5bd0",
        "colab": {
          "base_uri": "https://localhost:8080/"
        }
      },
      "source": [
        "#2)to get index and values of series in Pandas\n",
        "import pandas as pd\n",
        " \n",
        "ser1 = pd.Series({\"India\": \"New Delhi\",\n",
        "                  \"Japan\": \"Tokyo\",\n",
        "                  \"UK\": \"London\"})\n",
        " \n",
        "print(ser1.values)\n",
        "print(ser1.index)"
      ],
      "execution_count": null,
      "outputs": [
        {
          "output_type": "stream",
          "text": [
            "['New Delhi' 'Tokyo' 'London']\n",
            "Index(['India', 'Japan', 'UK'], dtype='object')\n"
          ],
          "name": "stdout"
        }
      ]
    },
    {
      "cell_type": "code",
      "metadata": {
        "id": "c_8GZ8hZIMVD",
        "outputId": "9678549a-4da8-4838-9d65-85815de5574c",
        "colab": {
          "base_uri": "https://localhost:8080/"
        }
      },
      "source": [
        "#3)Get Length Size and Shape of a Series:\n",
        "import pandas as pd\n",
        " \n",
        "values = [\"India\", \"Canada\", \"Australia\",\n",
        "          \"Japan\", \"Germany\", \"France\"]\n",
        " \n",
        "code = [\"IND\", \"CAN\", \"AUS\", \"JAP\", \"GER\", \"FRA\"]\n",
        " \n",
        "ser1 = pd.Series(values, index=code)\n",
        " \n",
        "print(len(ser1))\n",
        " \n",
        "print(ser1.shape)\n",
        " \n",
        "print(ser1.size)"
      ],
      "execution_count": null,
      "outputs": [
        {
          "output_type": "stream",
          "text": [
            "6\n",
            "(6,)\n",
            "6\n"
          ],
          "name": "stdout"
        }
      ]
    },
    {
      "cell_type": "code",
      "metadata": {
        "id": "9Os1K5XPIV9B",
        "outputId": "8a62e5f2-6ed9-4398-9202-76b16298735f",
        "colab": {
          "base_uri": "https://localhost:8080/"
        }
      },
      "source": [
        "#4)to get the first or last few rows from a Series in Pandas\n",
        "import pandas as pd\n",
        " \n",
        "values = [\"India\", \"Canada\", \"Australia\",\n",
        "          \"Japan\", \"Germany\", \"France\"]\n",
        " \n",
        "code = [\"IND\", \"CAN\", \"AUS\", \"JAP\", \"GER\", \"FRA\"]\n",
        " \n",
        "ser1 = pd.Series(values, index=code)\n",
        " \n",
        "print(\"-----Head()-----\")\n",
        "print(ser1.head())\n",
        " \n",
        "print(\"\\n\\n-----Head(2)-----\")\n",
        "print(ser1.head(2))"
      ],
      "execution_count": null,
      "outputs": [
        {
          "output_type": "stream",
          "text": [
            "-----Head()-----\n",
            "IND        India\n",
            "CAN       Canada\n",
            "AUS    Australia\n",
            "JAP        Japan\n",
            "GER      Germany\n",
            "dtype: object\n",
            "\n",
            "\n",
            "-----Head(2)-----\n",
            "IND     India\n",
            "CAN    Canada\n",
            "dtype: object\n"
          ],
          "name": "stdout"
        }
      ]
    },
    {
      "cell_type": "code",
      "metadata": {
        "id": "wpIRwKLzIfl2",
        "outputId": "6646374f-cb0c-4a62-ffdb-66983a5b1d63",
        "colab": {
          "base_uri": "https://localhost:8080/"
        }
      },
      "source": [
        "#5)Slicing a Series into subsets in Pandas\n",
        "import pandas as pd\n",
        " \n",
        "num = [000, 100, 200, 300, 400, 500, 600, 700, 800, 900]\n",
        " \n",
        "idx = ['A', 'B', 'C', 'D', 'E', 'F', 'G', 'H', 'I', 'J']\n",
        " \n",
        "series = pd.Series(num, index=idx)\n",
        " \n",
        "print(\"\\n [2:2] \\n\")\n",
        "print(series[2:4])\n",
        " \n",
        "print(\"\\n [1:6:2] \\n\")\n",
        "print(series[1:6:2])\n",
        " "
      ],
      "execution_count": null,
      "outputs": [
        {
          "output_type": "stream",
          "text": [
            "\n",
            " [2:2] \n",
            "\n",
            "C    200\n",
            "D    300\n",
            "dtype: int64\n",
            "\n",
            " [1:6:2] \n",
            "\n",
            "B    100\n",
            "D    300\n",
            "F    500\n",
            "dtype: int64\n"
          ],
          "name": "stdout"
        }
      ]
    },
    {
      "cell_type": "code",
      "metadata": {
        "id": "tU7hIi17IuCT",
        "outputId": "65535eba-9936-46ab-ad70-b1132b97973e",
        "colab": {
          "base_uri": "https://localhost:8080/"
        }
      },
      "source": [
        "#6)to create and print DataFrame in pandas\n",
        "\n",
        "import pandas as pd\n",
        " \n",
        "employees = pd.DataFrame({\n",
        "    'EmpCode': ['Emp001', 'Emp00'],\n",
        "    'Name': ['John Doe', 'William Spark'],\n",
        "    'Occupation': ['Chemist', 'Statistician'],\n",
        "    'Date Of Join': ['2018-01-25', '2018-01-26'],\n",
        "    'Age': [23, 24]})\n",
        " \n",
        "print(employees)\n"
      ],
      "execution_count": null,
      "outputs": [
        {
          "output_type": "stream",
          "text": [
            "  EmpCode           Name    Occupation Date Of Join  Age\n",
            "0  Emp001       John Doe       Chemist   2018-01-25   23\n",
            "1   Emp00  William Spark  Statistician   2018-01-26   24\n"
          ],
          "name": "stdout"
        }
      ]
    },
    {
      "cell_type": "code",
      "metadata": {
        "id": "Z6ezLHTaI8dH",
        "outputId": "e3f5cf7f-1423-430f-a979-0fee1c5d6fc6",
        "colab": {
          "base_uri": "https://localhost:8080/"
        }
      },
      "source": [
        "#7)to set Index and Columns in Pandas DataFrame\n",
        "\n",
        "import pandas as pd\n",
        " \n",
        "employees = pd.DataFrame(\n",
        "    data={'Name': ['John Doe', 'William Spark'],\n",
        "          'Occupation': ['Chemist', 'Statistician'],\n",
        "          'Date Of Join': ['2018-01-25', '2018-01-26'],\n",
        "          'Age': [23, 24]},\n",
        "    index=['Emp001', 'Emp002'],\n",
        "    columns=['Name', 'Occupation', 'Date Of Join', 'Age'])\n",
        " \n",
        "print(employees)"
      ],
      "execution_count": null,
      "outputs": [
        {
          "output_type": "stream",
          "text": [
            "                 Name    Occupation Date Of Join  Age\n",
            "Emp001       John Doe       Chemist   2018-01-25   23\n",
            "Emp002  William Spark  Statistician   2018-01-26   24\n"
          ],
          "name": "stdout"
        }
      ]
    },
    {
      "cell_type": "code",
      "metadata": {
        "id": "KWjSsdEmJSpO",
        "outputId": "04d4b796-7d4a-4e8d-ece6-ed1fdbf82873",
        "colab": {
          "base_uri": "https://localhost:8080/"
        }
      },
      "source": [
        "#8)to rename DataFrame columns name in pandas\n",
        "\n",
        "import pandas as pd\n",
        " \n",
        "employees = pd.DataFrame({\n",
        "    'EmpCode': ['Emp001', 'Emp00'],\n",
        "    'Name': ['John Doe', 'William Spark'],\n",
        "    'Occupation': ['Chemist', 'Statistician'],\n",
        "    'Date Of Join': ['2018-01-25', '2018-01-26'],\n",
        "    'Age': [23, 24]})\n",
        " \n",
        "employees.columns = ['EmpCode', 'EmpName', 'EmpOccupation', 'EmpDOJ', 'EmpAge']\n",
        " \n",
        "print(employees)"
      ],
      "execution_count": null,
      "outputs": [
        {
          "output_type": "stream",
          "text": [
            "  EmpCode        EmpName EmpOccupation      EmpDOJ  EmpAge\n",
            "0  Emp001       John Doe       Chemist  2018-01-25      23\n",
            "1   Emp00  William Spark  Statistician  2018-01-26      24\n"
          ],
          "name": "stdout"
        }
      ]
    },
    {
      "cell_type": "code",
      "metadata": {
        "id": "Fw-ROAggJg6X",
        "outputId": "5cc88faf-9162-48b0-831f-1b37bde604fd",
        "colab": {
          "base_uri": "https://localhost:8080/"
        }
      },
      "source": [
        "#9)Adding new column to existing DataFrame in Pandas\n",
        "\n",
        "import pandas as pd\n",
        " \n",
        "employees = pd.DataFrame({\n",
        "    'EmpCode': ['Emp001', 'Emp002', 'Emp003', 'Emp004', 'Emp005'],\n",
        "    'Name': ['John', 'Doe', 'William', 'Spark', 'Mark'],\n",
        "    'Occupation': ['Chemist', 'Statistician', 'Statistician',\n",
        "                   'Statistician', 'Programmer'],\n",
        "    'Date Of Join': ['2018-01-25', '2018-01-26', '2018-01-26', '2018-02-26',\n",
        "                     '2018-03-16'],\n",
        "    'Age': [23, 24, 34, 29, 40]})\n",
        " \n",
        "employees['City'] = ['London', 'Tokyo', 'Sydney', 'London', 'Toronto']\n",
        " \n",
        "print(employees)"
      ],
      "execution_count": null,
      "outputs": [
        {
          "output_type": "stream",
          "text": [
            "  EmpCode     Name    Occupation Date Of Join  Age     City\n",
            "0  Emp001     John       Chemist   2018-01-25   23   London\n",
            "1  Emp002      Doe  Statistician   2018-01-26   24    Tokyo\n",
            "2  Emp003  William  Statistician   2018-01-26   34   Sydney\n",
            "3  Emp004    Spark  Statistician   2018-02-26   29   London\n",
            "4  Emp005     Mark    Programmer   2018-03-16   40  Toronto\n"
          ],
          "name": "stdout"
        }
      ]
    },
    {
      "cell_type": "code",
      "metadata": {
        "id": "a_Q_jiw2JuRc",
        "outputId": "db685bba-5af9-4bea-9826-8e756eceede3",
        "colab": {
          "base_uri": "https://localhost:8080/"
        }
      },
      "source": [
        "#10)to get a list of the column headers from a Pandas DataFrame\n",
        "import pandas as pd\n",
        " \n",
        "employees = pd.DataFrame({\n",
        "    'EmpCode': ['Emp001', 'Emp002', 'Emp003', 'Emp004', 'Emp005'],\n",
        "    'Name': ['John', 'Doe', 'William', 'Spark', 'Mark'],\n",
        "    'Occupation': ['Chemist', 'Statistician', 'Statistician',\n",
        "                   'Statistician', 'Programmer'],\n",
        "    'Date Of Join': ['2018-01-25', '2018-01-26', '2018-01-26', '2018-02-26',\n",
        "                     '2018-03-16'],\n",
        "    'Age': [23, 24, 34, 29, 40]})\n",
        " \n",
        "print(list(employees))\n",
        " \n",
        "print(list(employees.columns.values))\n",
        " \n",
        "print(employees.columns.tolist())"
      ],
      "execution_count": null,
      "outputs": [
        {
          "output_type": "stream",
          "text": [
            "['EmpCode', 'Name', 'Occupation', 'Date Of Join', 'Age']\n",
            "['EmpCode', 'Name', 'Occupation', 'Date Of Join', 'Age']\n",
            "['EmpCode', 'Name', 'Occupation', 'Date Of Join', 'Age']\n"
          ],
          "name": "stdout"
        }
      ]
    },
    {
      "cell_type": "code",
      "metadata": {
        "id": "uCv8Xwx3J9Ct"
      },
      "source": [
        ""
      ],
      "execution_count": null,
      "outputs": []
    }
  ]
}