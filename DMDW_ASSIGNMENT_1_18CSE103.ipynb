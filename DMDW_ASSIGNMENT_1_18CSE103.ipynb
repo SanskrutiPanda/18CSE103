{
  "nbformat": 4,
  "nbformat_minor": 0,
  "metadata": {
    "colab": {
      "name": "DMDW_ASSIGNMENT_1_18CSE103.ipynb",
      "provenance": [],
      "authorship_tag": "ABX9TyOPfu3MB5ZKUforQsdzKM9g",
      "include_colab_link": true
    },
    "kernelspec": {
      "name": "python3",
      "display_name": "Python 3"
    }
  },
  "cells": [
    {
      "cell_type": "markdown",
      "metadata": {
        "id": "view-in-github",
        "colab_type": "text"
      },
      "source": [
        "<a href=\"https://colab.research.google.com/github/SanskrutiPanda/18CSE103/blob/main/DMDW_ASSIGNMENT_1_18CSE103.ipynb\" target=\"_parent\"><img src=\"https://colab.research.google.com/assets/colab-badge.svg\" alt=\"Open In Colab\"/></a>"
      ]
    },
    {
      "cell_type": "markdown",
      "metadata": {
        "id": "Y5YKsjUkq7Af"
      },
      "source": [
        "**Write a python code for finding mean, median\n",
        "and mode**"
      ]
    },
    {
      "cell_type": "code",
      "metadata": {
        "id": "iHlVmmVaq4Xt",
        "outputId": "4c1bf318-5d33-47b5-9e23-10513efbd26b",
        "colab": {
          "base_uri": "https://localhost:8080/"
        }
      },
      "source": [
        "from collections import Counter \n",
        "n_num = [1, 2, 3, 4, 5] \n",
        "def mean(n_num):\n",
        "  n = len(n_num) \n",
        "\n",
        "  get_sum = sum(n_num) \n",
        "  mean = get_sum / n \n",
        "\n",
        "  print(\"Mean / Average is: \" + str(mean)) \n",
        "def Median(n_num):\n",
        "  n_num = [1, 2, 3, 4, 5] \n",
        "  n = len(n_num) \n",
        "  n_num.sort() \n",
        "\n",
        "  if n % 2 == 0: \n",
        "    median1 = n_num[n//2] \n",
        "    median2 = n_num[n//2 - 1] \n",
        "    median = (median1 + median2)/2\n",
        "  else: \n",
        "    median = n_num[n//2] \n",
        "  print(\"Median is: \" + str(median)) \n",
        "\n",
        "def mode(n_num):\n",
        "  n = len(n_num) \n",
        "\n",
        "  data = Counter(n_num) \n",
        "  get_mode = dict(data) \n",
        "  mode = [k for k, v in get_mode.items() if v == max(list(data.values()))] \n",
        "\n",
        "  if len(mode) == n: \n",
        "    get_mode = \"No mode found\"\n",
        "  else: \n",
        "    get_mode = \"Mode is / are: \" + ', '.join(map(str, mode)) \n",
        "    \n",
        "  print(get_mode) \n",
        "mean(n_num)\n",
        "Median(n_num)\n",
        "n_num = [1, 2, 3, 4, 5, 5] \n",
        "mode(n_num)\n"
      ],
      "execution_count": null,
      "outputs": [
        {
          "output_type": "stream",
          "text": [
            "Mean / Average is: 3.0\n",
            "Median is: 3\n",
            "Mode is / are: 5\n"
          ],
          "name": "stdout"
        }
      ]
    },
    {
      "cell_type": "markdown",
      "metadata": {
        "id": "ezbX6B6NttQw"
      },
      "source": [
        "**Write a python code for calculating variance and\n",
        "standard deviation for the set of elements**"
      ]
    },
    {
      "cell_type": "code",
      "metadata": {
        "id": "e-ddHJKnt0lo",
        "outputId": "4102dafb-cde9-428c-bd6b-0135ea5b893d",
        "colab": {
          "base_uri": "https://localhost:8080/"
        }
      },
      "source": [
        "def variance(data):\n",
        "     \n",
        "     n = len(data)\n",
        "     \n",
        "     mean = sum(data) / n\n",
        "     \n",
        "     deviations = [(x - mean) ** 2 for x in data]\n",
        "    \n",
        "     variance = sum(deviations) / n\n",
        "     print(\"variance: \",variance) \n",
        "\n",
        "\n",
        "\n",
        "def Stdv(test_list):\n",
        "  print(\"The original list : \" + str(test_list)) \n",
        "  mean = sum(test_list) / len(test_list) \n",
        "  variance = sum([((x - mean) ** 2) for x in test_list]) / len(test_list) \n",
        "  res = variance ** 0.5\n",
        "  print(\"Standard deviation of sample is : \" + str(res)) \n",
        "test_list = [4, 5, 8, 9, 10] \n",
        "variance(test_list)\n",
        "Stdv(test_list)\n"
      ],
      "execution_count": null,
      "outputs": [
        {
          "output_type": "stream",
          "text": [
            "variance:  5.36\n",
            "The original list : [4, 5, 8, 9, 10]\n",
            "Standard deviation of sample is : 2.3151673805580453\n"
          ],
          "name": "stdout"
        }
      ]
    },
    {
      "cell_type": "markdown",
      "metadata": {
        "id": "WCY7cQhbwobX"
      },
      "source": [
        "**Practice some basic python programs.**"
      ]
    },
    {
      "cell_type": "code",
      "metadata": {
        "id": "63NOfY03wSnu",
        "outputId": "376fdb0f-0abf-46eb-dc8b-ff943d040d82",
        "colab": {
          "base_uri": "https://localhost:8080/"
        }
      },
      "source": [
        "# Python program to check if year is a leap year or not\n",
        "year = 2000\n",
        "if (year % 4) == 0:\n",
        "   if (year % 100) == 0:\n",
        "       if (year % 400) == 0:\n",
        "           print(\"{0} is a leap year\".format(year))\n",
        "       else:\n",
        "           print(\"{0} is not a leap year\".format(year))\n",
        "   else:\n",
        "       print(\"{0} is a leap year\".format(year))\n",
        "else:\n",
        "   print(\"{0} is not a leap year\".format(year))\n",
        "# Program to check Armstrong numbers in a certain interval\n",
        "\n",
        "lower = 100\n",
        "upper = 2000\n",
        "for num in range(lower, upper + 1):\n",
        "   order = len(str(num))\n",
        "   sum = 0\n",
        "   temp = num\n",
        "   while temp > 0:\n",
        "       digit = temp % 10\n",
        "       sum += digit ** order\n",
        "       temp //= 10\n",
        "\n",
        "   if num == sum:\n",
        "       print(\"Armstrong number:\",num)"
      ],
      "execution_count": null,
      "outputs": [
        {
          "output_type": "stream",
          "text": [
            "2000 is a leap year\n",
            "Armstrong number: 153\n",
            "Armstrong number: 370\n",
            "Armstrong number: 371\n",
            "Armstrong number: 407\n",
            "Armstrong number: 1634\n"
          ],
          "name": "stdout"
        }
      ]
    },
    {
      "cell_type": "code",
      "metadata": {
        "id": "fNYqFkl6yPi6"
      },
      "source": [
        ""
      ],
      "execution_count": null,
      "outputs": []
    }
  ]
}